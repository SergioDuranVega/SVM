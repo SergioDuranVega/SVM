{
 "cells": [
  {
   "cell_type": "code",
   "execution_count": 16,
   "id": "31319882-e719-4303-a360-d56a8c3a7ee4",
   "metadata": {},
   "outputs": [
    {
     "name": "stdout",
     "output_type": "stream",
     "text": [
      "   feature1  feature2  target\n",
      "0  2.400461 -0.898909       0\n",
      "1 -0.272205  1.659048       1\n",
      "2  0.219558 -1.656972       0\n",
      "3 -1.394160 -1.742479       1\n",
      "4 -0.962274 -0.597956       1\n"
     ]
    }
   ],
   "source": [
    "import numpy as np\n",
    "import pandas as pd\n",
    "from sklearn import svm\n",
    "from sklearn.model_selection import train_test_split\n",
    "from sklearn.preprocessing import StandardScaler\n",
    "from sklearn.metrics import accuracy_score\n",
    "from sklearn.datasets import make_classification\n",
    "\n",
    "# Crear un conjunto de datos ficticio\n",
    "X, Y = make_classification(n_samples=1000, n_features=2, n_informative=2, n_redundant=0, random_state=42)\n",
    "\n",
    "# Dividir los datos en conjuntos de entrenamiento y prueba\n",
    "X_train, X_test, Y_train, Y_test = train_test_split(X, Y, test_size=0.2, random_state=42)\n",
    "\n",
    "# Crear un DataFrame para facilitar el manejo de los datos\n",
    "df = pd.DataFrame(X_train, columns=['feature1', 'feature2'])\n",
    "df['target'] = Y_train\n",
    "\n",
    "# Mostrar los primeros registros del DataFrame\n",
    "print(df.head())"
   ]
  },
  {
   "cell_type": "code",
   "execution_count": 17,
   "id": "50956d69-585c-47e7-9809-075cfa87f50e",
   "metadata": {},
   "outputs": [
    {
     "name": "stdout",
     "output_type": "stream",
     "text": [
      "Modelo sin estandarizar:\n",
      "Precisión en los datos de entrenamiento:  0.5175\n",
      "Precisión en los datos de prueba:  0.54\n"
     ]
    }
   ],
   "source": [
    "# Modelo sin estandarizar\n",
    "model = svm.SVC(kernel='linear')\n",
    "model.fit(X_train, Y_train)\n",
    "\n",
    "# Evaluar el modelo sin estandarizar\n",
    "Y_train_prediction = model_non_standardized.predict(X_train)\n",
    "Y_test_prediction = model_non_standardized.predict(X_test)\n",
    "train_accuracy_train = accuracy_score(Y_train, Y_train_prediction)\n",
    "test_accuracy_test = accuracy_score(Y_test, Y_test_prediction)\n",
    "\n",
    "print(\"Modelo sin estandarizar:\")\n",
    "print(\"Precisión en los datos de entrenamiento: \", train_accuracy_train)\n",
    "print(\"Precisión en los datos de prueba: \", test_accuracy_test)\n"
   ]
  },
  {
   "cell_type": "code",
   "execution_count": 18,
   "id": "60ae18f5-d034-402b-8607-b57f06a2fe3f",
   "metadata": {},
   "outputs": [
    {
     "name": "stdout",
     "output_type": "stream",
     "text": [
      "\n",
      "Modelo estandarizado:\n",
      "Precisión en los datos de entrenamiento:  0.86375\n",
      "Precisión en los datos de prueba:  0.88\n"
     ]
    }
   ],
   "source": [
    "# Estandarizar los datos\n",
    "scaler = StandardScaler()\n",
    "scaler.fit(X_train)\n",
    "X_train = scaler.transform(X_train)\n",
    "X_test = scaler.transform(X_test)\n",
    "\n",
    "# Modelo estandarizado\n",
    "model_standardized = svm.SVC(kernel='linear')\n",
    "model_standardized.fit(X_train, Y_train)\n",
    "\n",
    "# Evaluar el modelo estandarizado\n",
    "Y_train_prediction = model_standardized.predict(X_train)\n",
    "Y_test_prediction = model_standardized.predict(X_test)\n",
    "train_accuracy = accuracy_score(Y_train, Y_train_prediction)\n",
    "test_accuracy = accuracy_score(Y_test, Y_test_prediction)\n",
    "\n",
    "print(\"\\nModelo estandarizado:\")\n",
    "print(\"Precisión en los datos de entrenamiento: \", train_accuracy)\n",
    "print(\"Precisión en los datos de prueba: \", test_accuracy)"
   ]
  },
  {
   "cell_type": "code",
   "execution_count": null,
   "id": "f29d24d3-5617-41b6-a272-9236a37debaa",
   "metadata": {},
   "outputs": [],
   "source": []
  }
 ],
 "metadata": {
  "kernelspec": {
   "display_name": "Python 3 (ipykernel)",
   "language": "python",
   "name": "python3"
  },
  "language_info": {
   "codemirror_mode": {
    "name": "ipython",
    "version": 3
   },
   "file_extension": ".py",
   "mimetype": "text/x-python",
   "name": "python",
   "nbconvert_exporter": "python",
   "pygments_lexer": "ipython3",
   "version": "3.11.5"
  }
 },
 "nbformat": 4,
 "nbformat_minor": 5
}
